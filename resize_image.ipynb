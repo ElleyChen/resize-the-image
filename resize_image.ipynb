{
 "cells": [
  {
   "cell_type": "code",
   "execution_count": null,
   "metadata": {
    "collapsed": true
   },
   "outputs": [],
   "source": [
    "from PIL import Image\n",
    "\n",
    "x = []\n",
    "y = []\n",
    "for i in all_data['image_path']:\n",
    "    for j in all_data['image_plant']:\n",
    "        image = Image.open(i)\n",
    "        #reszie\n",
    "        width  = image.size[0]\n",
    "        height = image.size[1]\n",
    "\n",
    "        aspect = width / float(height)\n",
    "\n",
    "        ideal_width = 224\n",
    "        ideal_height = 224\n",
    "\n",
    "        ideal_aspect = ideal_width / float(ideal_height)\n",
    "\n",
    "        if aspect > ideal_aspect:\n",
    "            # Then crop the left and right edges:\n",
    "            new_width = int(ideal_aspect * height)\n",
    "            offset = (width - new_width) / 2\n",
    "            resize = (offset, 0, width - offset, height)\n",
    "        else:\n",
    "            # ... crop the top and bottom:\n",
    "            new_height = int(width / ideal_aspect)\n",
    "            offset = (height - new_height) / 2\n",
    "            resize = (0, offset, width, height - offset)\n",
    "\n",
    "        thumb = image.crop(resize).resize((ideal_width, ideal_height), Image.ANTIALIAS)\n",
    "        thumb.save(i)\n",
    "\n",
    "        image = cv2.imread(i,0)\n",
    "        x.append(image)\n",
    "        y.append(j)"
   ]
  }
 ],
 "metadata": {
  "kernelspec": {
   "display_name": "Python 3",
   "language": "python",
   "name": "python3"
  },
  "language_info": {
   "codemirror_mode": {
    "name": "ipython",
    "version": 3
   },
   "file_extension": ".py",
   "mimetype": "text/x-python",
   "name": "python",
   "nbconvert_exporter": "python",
   "pygments_lexer": "ipython3",
   "version": "3.6.3"
  }
 },
 "nbformat": 4,
 "nbformat_minor": 2
}
